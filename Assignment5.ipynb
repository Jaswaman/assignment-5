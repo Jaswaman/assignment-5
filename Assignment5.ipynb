{
  "nbformat": 4,
  "nbformat_minor": 0,
  "metadata": {
    "colab": {
      "name": "Assignment5.ipynb",
      "provenance": []
    },
    "kernelspec": {
      "name": "python3",
      "display_name": "Python 3"
    },
    "language_info": {
      "name": "python"
    }
  },
  "cells": [
    {
      "cell_type": "markdown",
      "source": [
        "# Loading The Dataset"
      ],
      "metadata": {
        "id": "i9bQWRRiZUZ0"
      }
    },
    {
      "cell_type": "code",
      "execution_count": 74,
      "metadata": {
        "id": "o0cYG-ofygBu"
      },
      "outputs": [],
      "source": [
        "import numpy as np\n",
        "import pandas as pd\n",
        "\n",
        "df = pd.read_csv('/content/sample_data/kr-vs-kp.data')"
      ]
    },
    {
      "cell_type": "code",
      "source": [
        "df['won'].value_counts()"
      ],
      "metadata": {
        "colab": {
          "base_uri": "https://localhost:8080/"
        },
        "id": "SkRbNwnv5tnv",
        "outputId": "cf8d7637-b72f-40d5-c5ae-ceba63a3f749"
      },
      "execution_count": 75,
      "outputs": [
        {
          "output_type": "execute_result",
          "data": {
            "text/plain": [
              "won      1668\n",
              "nowin    1527\n",
              "Name: won, dtype: int64"
            ]
          },
          "metadata": {},
          "execution_count": 75
        }
      ]
    },
    {
      "cell_type": "code",
      "source": [
        "df.info()"
      ],
      "metadata": {
        "colab": {
          "base_uri": "https://localhost:8080/"
        },
        "id": "47pGTcQH5zsY",
        "outputId": "f90618cb-2d64-4957-bbc6-2556e610250d"
      },
      "execution_count": 76,
      "outputs": [
        {
          "output_type": "stream",
          "name": "stdout",
          "text": [
            "<class 'pandas.core.frame.DataFrame'>\n",
            "RangeIndex: 3195 entries, 0 to 3194\n",
            "Data columns (total 37 columns):\n",
            " #   Column  Non-Null Count  Dtype \n",
            "---  ------  --------------  ----- \n",
            " 0   f       3195 non-null   object\n",
            " 1   f.1     3195 non-null   object\n",
            " 2   f.2     3195 non-null   object\n",
            " 3   f.3     3195 non-null   object\n",
            " 4   f.4     3195 non-null   object\n",
            " 5   f.5     3195 non-null   object\n",
            " 6   f.6     3195 non-null   object\n",
            " 7   f.7     3195 non-null   object\n",
            " 8   f.8     3195 non-null   object\n",
            " 9   f.9     3195 non-null   object\n",
            " 10  f.10    3195 non-null   object\n",
            " 11  f.11    3195 non-null   object\n",
            " 12  l       3195 non-null   object\n",
            " 13  f.12    3195 non-null   object\n",
            " 14  n       3195 non-null   object\n",
            " 15  f.13    3195 non-null   object\n",
            " 16  f.14    3195 non-null   object\n",
            " 17  t       3195 non-null   object\n",
            " 18  f.15    3195 non-null   object\n",
            " 19  f.16    3195 non-null   object\n",
            " 20  f.17    3195 non-null   object\n",
            " 21  f.18    3195 non-null   object\n",
            " 22  f.19    3195 non-null   object\n",
            " 23  f.20    3195 non-null   object\n",
            " 24  f.21    3195 non-null   object\n",
            " 25  t.1     3195 non-null   object\n",
            " 26  f.22    3195 non-null   object\n",
            " 27  f.23    3195 non-null   object\n",
            " 28  f.24    3195 non-null   object\n",
            " 29  f.25    3195 non-null   object\n",
            " 30  f.26    3195 non-null   object\n",
            " 31  f.27    3195 non-null   object\n",
            " 32  f.28    3195 non-null   object\n",
            " 33  t.2     3195 non-null   object\n",
            " 34  t.3     3195 non-null   object\n",
            " 35  n.1     3195 non-null   object\n",
            " 36  won     3195 non-null   object\n",
            "dtypes: object(37)\n",
            "memory usage: 923.7+ KB\n"
          ]
        }
      ]
    },
    {
      "cell_type": "markdown",
      "source": [
        "# Dataset Pre-processing"
      ],
      "metadata": {
        "id": "aavye8GsZbFz"
      }
    },
    {
      "cell_type": "code",
      "metadata": {
        "id": "tXLnAf7JswZ8"
      },
      "source": [
        "for column in df:\n",
        "  pd.get_dummies(df[column], drop_first=True)\n",
        "  df = pd.concat([pd.get_dummies(df[column], prefix=column, drop_first=True), df], axis=1)\n",
        "  df.drop([column], axis=1, inplace=True)"
      ],
      "execution_count": 77,
      "outputs": []
    },
    {
      "cell_type": "code",
      "source": [
        "X = df.iloc[:, 1:38]\n",
        "y = df.iloc[:, 0]"
      ],
      "metadata": {
        "id": "9CqGb09j55z5"
      },
      "execution_count": 78,
      "outputs": []
    },
    {
      "cell_type": "markdown",
      "source": [
        "# Training Classifiers"
      ],
      "metadata": {
        "id": "cG_jKQIlZvbQ"
      }
    },
    {
      "cell_type": "code",
      "source": [
        "from sklearn.neighbors import KNeighborsClassifier\n",
        "from sklearn.model_selection import GridSearchCV \n",
        "\n",
        "param_grid = {'n_neighbors': [1, 2, 3, 4, 5]} \n",
        "\n",
        "knn = KNeighborsClassifier()\n",
        "knn_cv = GridSearchCV(knn, param_grid, cv=5) \n",
        "knn_cv.fit(X, y)\n",
        "\n",
        "print(knn_cv.best_params_)\n",
        "print(knn_cv.best_score_)"
      ],
      "metadata": {
        "colab": {
          "base_uri": "https://localhost:8080/"
        },
        "id": "m03Cdf_j6nKo",
        "outputId": "9032b76f-07f8-4227-e035-e879ca000352"
      },
      "execution_count": 79,
      "outputs": [
        {
          "output_type": "stream",
          "name": "stdout",
          "text": [
            "{'n_neighbors': 5}\n",
            "0.7805946791862285\n"
          ]
        }
      ]
    },
    {
      "cell_type": "code",
      "source": [
        "from sklearn.linear_model import LogisticRegression\n",
        "from sklearn.model_selection import GridSearchCV \n",
        "\n",
        "param_grid = {'solver': ['newton-cg', 'lbfgs', 'liblinear', 'sag', 'saga']} \n",
        "\n",
        "lr = LogisticRegression()\n",
        "lr_cv = GridSearchCV(lr, param_grid, cv=5) \n",
        "lr_cv.fit(X, y)\n",
        "\n",
        "print(lr_cv.best_params_)\n",
        "print(lr_cv.best_score_)"
      ],
      "metadata": {
        "colab": {
          "base_uri": "https://localhost:8080/"
        },
        "id": "zF3FYyg4Fkho",
        "outputId": "a02bc25c-2b8e-4e42-c913-9d6c04afc440"
      },
      "execution_count": 80,
      "outputs": [
        {
          "output_type": "stream",
          "name": "stdout",
          "text": [
            "{'solver': 'liblinear'}\n",
            "0.9327073552425664\n"
          ]
        }
      ]
    },
    {
      "cell_type": "code",
      "source": [
        "from sklearn.ensemble import RandomForestClassifier\n",
        "from sklearn.model_selection import GridSearchCV \n",
        "\n",
        "param_grid = {'n_estimators': [1, 2, 3, 4, 5], \n",
        "              'max_depth': [2, 4, 6, 8, 10]}\n",
        "\n",
        "rfc = RandomForestClassifier()\n",
        "rfc_cv = GridSearchCV(rfc, param_grid, cv=5) \n",
        "rfc_cv.fit(X, y)\n",
        "\n",
        "print(rfc_cv.best_params_)\n",
        "print(rfc_cv.best_score_)"
      ],
      "metadata": {
        "colab": {
          "base_uri": "https://localhost:8080/"
        },
        "id": "hK-g-xIWFkqk",
        "outputId": "ed9cf76f-e524-4be4-c2e8-7b54d86ba8b6"
      },
      "execution_count": 81,
      "outputs": [
        {
          "output_type": "stream",
          "name": "stdout",
          "text": [
            "{'max_depth': 10, 'n_estimators': 4}\n",
            "0.9051643192488262\n"
          ]
        }
      ]
    },
    {
      "cell_type": "code",
      "source": [
        "from sklearn import svm\n",
        "from sklearn.model_selection import GridSearchCV \n",
        "\n",
        "param_grid = {\n",
        "    'C': [1, 10, 100, 1000],\n",
        "    'gamma': [0.0001, 0.001, 0.01, 0.1],\n",
        "    'kernel': ['rbf', 'linear', 'sigmoid']} \n",
        "\n",
        "svc = svm.SVC()\n",
        "svc_cv = GridSearchCV(svc, param_grid, cv=5) \n",
        "svc_cv.fit(X, y)\n",
        "\n",
        "print(svc_cv.best_params_)\n",
        "print(svc_cv.best_score_)"
      ],
      "metadata": {
        "id": "KNoZkHXQFrrk",
        "colab": {
          "base_uri": "https://localhost:8080/"
        },
        "outputId": "5b19737f-9e23-418d-e985-a474a74cca52"
      },
      "execution_count": 82,
      "outputs": [
        {
          "output_type": "stream",
          "name": "stdout",
          "text": [
            "{'C': 1000, 'gamma': 0.01, 'kernel': 'rbf'}\n",
            "0.9762128325508608\n"
          ]
        }
      ]
    },
    {
      "cell_type": "markdown",
      "source": [
        "# Running Best Classifier"
      ],
      "metadata": {
        "id": "nnpYEiZNZ29Z"
      }
    },
    {
      "cell_type": "code",
      "source": [
        "from sklearn.model_selection import train_test_split\n",
        "\n",
        "X_train, X_test, y_train, y_test = train_test_split(X, y, test_size=0.3)"
      ],
      "metadata": {
        "id": "7JgZioIOHjo5"
      },
      "execution_count": 83,
      "outputs": []
    },
    {
      "cell_type": "code",
      "source": [
        "from sklearn import svm\n",
        "\n",
        "svc = svm.SVC(C=128, gamma=0.03125, kernel='rbf')\n",
        "svc.fit(X_train, y_train)\n",
        "y_hat = svc.predict(X_test)"
      ],
      "metadata": {
        "id": "g_N4wpBFHqEz"
      },
      "execution_count": 84,
      "outputs": []
    },
    {
      "cell_type": "code",
      "source": [
        "from sklearn.metrics import accuracy_score\n",
        "\n",
        "accuracy_score(y_test, y_hat)"
      ],
      "metadata": {
        "colab": {
          "base_uri": "https://localhost:8080/"
        },
        "id": "mpC0JgrfHrE0",
        "outputId": "d285a900-17ae-43df-a9c6-accd115a4908"
      },
      "execution_count": 85,
      "outputs": [
        {
          "output_type": "execute_result",
          "data": {
            "text/plain": [
              "0.9947862356621481"
            ]
          },
          "metadata": {},
          "execution_count": 85
        }
      ]
    }
  ]
}